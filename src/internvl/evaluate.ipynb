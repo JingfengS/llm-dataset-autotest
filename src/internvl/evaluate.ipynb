{
 "cells": [
  {
   "cell_type": "markdown",
   "metadata": {},
   "source": [
    "# Evaluation for llm internvl\n",
    "\n",
    "### Datasets:\n",
    "- MME\n",
    "- [MMMU](https://huggingface.co/datasets/MMMU/MMMU)"
   ]
  },
  {
   "cell_type": "code",
   "execution_count": 2,
   "metadata": {},
   "outputs": [
    {
     "name": "stdout",
     "output_type": "stream",
     "text": [
      "env: OPENAI_API_KEY='jingfeng'\n"
     ]
    }
   ],
   "source": [
    "from models.BaseModelTest import ModelTestConfig, BaseModelTest\n",
    "from datasets import load_dataset\n",
    "import pandas as pd\n",
    "\n",
    "%env OPENAI_API_KEY='jingfeng'"
   ]
  },
  {
   "cell_type": "code",
   "execution_count": 6,
   "metadata": {},
   "outputs": [
    {
     "data": {
      "text/plain": [
       "Dataset({\n",
       "    features: ['pid', 'question', 'image', 'decoded_image', 'choices', 'unit', 'precision', 'answer', 'question_type', 'answer_type', 'metadata', 'query'],\n",
       "    num_rows: 1000\n",
       "})"
      ]
     },
     "execution_count": 6,
     "metadata": {},
     "output_type": "execute_result"
    }
   ],
   "source": [
    "ds = load_dataset('AI4Math/MathVista', split='testmini')\n",
    "ds "
   ]
  },
  {
   "cell_type": "code",
   "execution_count": 7,
   "metadata": {},
   "outputs": [
    {
     "data": {
      "application/vnd.microsoft.datawrangler.viewer.v0+json": {
       "columns": [
        {
         "name": "index",
         "rawType": "int64",
         "type": "integer"
        },
        {
         "name": "pid",
         "rawType": "object",
         "type": "string"
        },
        {
         "name": "question",
         "rawType": "object",
         "type": "string"
        },
        {
         "name": "image",
         "rawType": "object",
         "type": "string"
        },
        {
         "name": "decoded_image",
         "rawType": "object",
         "type": "unknown"
        },
        {
         "name": "choices",
         "rawType": "object",
         "type": "unknown"
        },
        {
         "name": "unit",
         "rawType": "object",
         "type": "unknown"
        },
        {
         "name": "precision",
         "rawType": "float64",
         "type": "float"
        },
        {
         "name": "answer",
         "rawType": "object",
         "type": "string"
        },
        {
         "name": "question_type",
         "rawType": "object",
         "type": "string"
        },
        {
         "name": "answer_type",
         "rawType": "object",
         "type": "string"
        },
        {
         "name": "metadata",
         "rawType": "object",
         "type": "unknown"
        },
        {
         "name": "query",
         "rawType": "object",
         "type": "string"
        }
       ],
       "conversionMethod": "pd.DataFrame",
       "ref": "a236555e-c732-4658-9195-5d2027a48f1b",
       "rows": [
        [
         "0",
         "1",
         "When a spring does work on an object, we cannot find the work by simply multiplying the spring force by the object's displacement. The reason is that there is no one value for the force-it changes. However, we can split the displacement up into an infinite number of tiny parts and then approximate the force in each as being constant. Integration sums the work done in all those parts. Here we use the generic result of the integration.\r\n\r\nIn Figure, a cumin canister of mass $m=0.40 \\mathrm{~kg}$ slides across a horizontal frictionless counter with speed $v=0.50 \\mathrm{~m} / \\mathrm{s}$. It then runs into and compresses a spring of spring constant $k=750 \\mathrm{~N} / \\mathrm{m}$. When the canister is momentarily stopped by the spring, by what distance $d$ is the spring compressed?",
         "images/1.jpg",
         "<PIL.PngImagePlugin.PngImageFile image mode=RGBA size=1514x720 at 0x1690887D0>",
         null,
         null,
         "1.0",
         "1.2",
         "free_form",
         "float",
         "{'category': 'math-targeted-vqa', 'context': 'scientific figure', 'grade': 'college', 'img_height': 720, 'img_width': 1514, 'language': 'english', 'skills': ['scientific reasoning'], 'source': 'SciBench', 'split': 'testmini', 'task': 'textbook question answering'}",
         "Hint: Please answer the question requiring a floating-point number with one decimal place and provide the final value, e.g., 1.2, 1.3, 1.4, at the end.\nQuestion: When a spring does work on an object, we cannot find the work by simply multiplying the spring force by the object's displacement. The reason is that there is no one value for the force-it changes. However, we can split the displacement up into an infinite number of tiny parts and then approximate the force in each as being constant. Integration sums the work done in all those parts. Here we use the generic result of the integration.\r\n\r\nIn Figure, a cumin canister of mass $m=0.40 \\mathrm{~kg}$ slides across a horizontal frictionless counter with speed $v=0.50 \\mathrm{~m} / \\mathrm{s}$. It then runs into and compresses a spring of spring constant $k=750 \\mathrm{~N} / \\mathrm{m}$. When the canister is momentarily stopped by the spring, by what distance $d$ is the spring compressed?"
        ],
        [
         "1",
         "2",
         "what is the total volume of the measuring cup?",
         "images/2.jpg",
         "<PIL.JpegImagePlugin.JpegImageFile image mode=RGB size=1024x768 at 0x1690A5490>",
         null,
         "g",
         null,
         "1000",
         "free_form",
         "integer",
         "{'category': 'general-vqa', 'context': 'natural image', 'grade': 'daily life', 'img_height': 768, 'img_width': 1024, 'language': 'english', 'skills': ['numeric commonsense', 'arithmetic reasoning'], 'source': 'TextVQA', 'split': 'testmini', 'task': 'visual question answering'}",
         "Hint: Please answer the question requiring an integer answer and provide the final value, e.g., 1, 2, 3, at the end.\nQuestion: what is the total volume of the measuring cup? (Unit: g)"
        ],
        [
         "2",
         "3",
         "△ABC的两内角平分线OB、OC相交于点O，若∠A＝110°，则∠BOC＝（）",
         "images/3.jpg",
         "<PIL.PngImagePlugin.PngImageFile image mode=P size=131x60 at 0x1690A5700>",
         "['135°', '140°', '145°', '150°']",
         null,
         null,
         "145°",
         "multi_choice",
         "text",
         "{'category': 'math-targeted-vqa', 'context': 'geometry diagram', 'grade': 'high school', 'img_height': 60, 'img_width': 131, 'language': 'chinese', 'skills': ['geometry reasoning', 'algebraic reasoning'], 'source': 'GeoQA+', 'split': 'testmini', 'task': 'geometry problem solving'}",
         "Hint: Please answer the question and provide the correct option letter, e.g., A, B, C, D, at the end.\nQuestion: △ABC的两内角平分线OB、OC相交于点O，若∠A＝110°，则∠BOC＝（）\nChoices:\n(A) 135°\n(B) 140°\n(C) 145°\n(D) 150°"
        ],
        [
         "3",
         "4",
         "Subtract all large rubber spheres. Subtract all big shiny cylinders. How many objects are left?",
         "images/4.jpg",
         "<PIL.PngImagePlugin.PngImageFile image mode=RGBA size=320x240 at 0x1690A58B0>",
         null,
         null,
         null,
         "4",
         "free_form",
         "integer",
         "{'category': 'math-targeted-vqa', 'context': 'synthetic scene', 'grade': 'elementary school', 'img_height': 240, 'img_width': 320, 'language': 'english', 'skills': ['geometry reasoning', 'arithmetic reasoning'], 'source': 'CLEVR-Math', 'split': 'testmini', 'task': 'math word problem'}",
         "Hint: Please answer the question requiring an integer answer and provide the final value, e.g., 1, 2, 3, at the end.\nQuestion: Subtract all large rubber spheres. Subtract all big shiny cylinders. How many objects are left?"
        ],
        [
         "4",
         "5",
         "Find $m\\angle H$",
         "images/5.jpg",
         "<PIL.PngImagePlugin.PngImageFile image mode=RGBA size=322x245 at 0x1690A5E20>",
         "['97', '102', '107', '122']",
         null,
         null,
         "97",
         "multi_choice",
         "text",
         "{'category': 'math-targeted-vqa', 'context': 'geometry diagram', 'grade': 'high school', 'img_height': 245, 'img_width': 322, 'language': 'english', 'skills': ['geometry reasoning', 'algebraic reasoning'], 'source': 'Geometry3K', 'split': 'testmini', 'task': 'geometry problem solving'}",
         "Hint: Please answer the question and provide the correct option letter, e.g., A, B, C, D, at the end.\nQuestion: Find $m\\angle H$\nChoices:\n(A) 97\n(B) 102\n(C) 107\n(D) 122"
        ]
       ],
       "shape": {
        "columns": 12,
        "rows": 5
       }
      },
      "text/html": [
       "<div>\n",
       "<style scoped>\n",
       "    .dataframe tbody tr th:only-of-type {\n",
       "        vertical-align: middle;\n",
       "    }\n",
       "\n",
       "    .dataframe tbody tr th {\n",
       "        vertical-align: top;\n",
       "    }\n",
       "\n",
       "    .dataframe thead th {\n",
       "        text-align: right;\n",
       "    }\n",
       "</style>\n",
       "<table border=\"1\" class=\"dataframe\">\n",
       "  <thead>\n",
       "    <tr style=\"text-align: right;\">\n",
       "      <th></th>\n",
       "      <th>pid</th>\n",
       "      <th>question</th>\n",
       "      <th>image</th>\n",
       "      <th>decoded_image</th>\n",
       "      <th>choices</th>\n",
       "      <th>unit</th>\n",
       "      <th>precision</th>\n",
       "      <th>answer</th>\n",
       "      <th>question_type</th>\n",
       "      <th>answer_type</th>\n",
       "      <th>metadata</th>\n",
       "      <th>query</th>\n",
       "    </tr>\n",
       "  </thead>\n",
       "  <tbody>\n",
       "    <tr>\n",
       "      <th>0</th>\n",
       "      <td>1</td>\n",
       "      <td>When a spring does work on an object, we canno...</td>\n",
       "      <td>images/1.jpg</td>\n",
       "      <td>&lt;PIL.PngImagePlugin.PngImageFile image mode=RG...</td>\n",
       "      <td>None</td>\n",
       "      <td>None</td>\n",
       "      <td>1.0</td>\n",
       "      <td>1.2</td>\n",
       "      <td>free_form</td>\n",
       "      <td>float</td>\n",
       "      <td>{'category': 'math-targeted-vqa', 'context': '...</td>\n",
       "      <td>Hint: Please answer the question requiring a f...</td>\n",
       "    </tr>\n",
       "    <tr>\n",
       "      <th>1</th>\n",
       "      <td>2</td>\n",
       "      <td>what is the total volume of the measuring cup?</td>\n",
       "      <td>images/2.jpg</td>\n",
       "      <td>&lt;PIL.JpegImagePlugin.JpegImageFile image mode=...</td>\n",
       "      <td>None</td>\n",
       "      <td>g</td>\n",
       "      <td>NaN</td>\n",
       "      <td>1000</td>\n",
       "      <td>free_form</td>\n",
       "      <td>integer</td>\n",
       "      <td>{'category': 'general-vqa', 'context': 'natura...</td>\n",
       "      <td>Hint: Please answer the question requiring an ...</td>\n",
       "    </tr>\n",
       "    <tr>\n",
       "      <th>2</th>\n",
       "      <td>3</td>\n",
       "      <td>△ABC的两内角平分线OB、OC相交于点O，若∠A＝110°，则∠BOC＝（）</td>\n",
       "      <td>images/3.jpg</td>\n",
       "      <td>&lt;PIL.PngImagePlugin.PngImageFile image mode=P ...</td>\n",
       "      <td>[135°, 140°, 145°, 150°]</td>\n",
       "      <td>None</td>\n",
       "      <td>NaN</td>\n",
       "      <td>145°</td>\n",
       "      <td>multi_choice</td>\n",
       "      <td>text</td>\n",
       "      <td>{'category': 'math-targeted-vqa', 'context': '...</td>\n",
       "      <td>Hint: Please answer the question and provide t...</td>\n",
       "    </tr>\n",
       "    <tr>\n",
       "      <th>3</th>\n",
       "      <td>4</td>\n",
       "      <td>Subtract all large rubber spheres. Subtract al...</td>\n",
       "      <td>images/4.jpg</td>\n",
       "      <td>&lt;PIL.PngImagePlugin.PngImageFile image mode=RG...</td>\n",
       "      <td>None</td>\n",
       "      <td>None</td>\n",
       "      <td>NaN</td>\n",
       "      <td>4</td>\n",
       "      <td>free_form</td>\n",
       "      <td>integer</td>\n",
       "      <td>{'category': 'math-targeted-vqa', 'context': '...</td>\n",
       "      <td>Hint: Please answer the question requiring an ...</td>\n",
       "    </tr>\n",
       "    <tr>\n",
       "      <th>4</th>\n",
       "      <td>5</td>\n",
       "      <td>Find $m\\angle H$</td>\n",
       "      <td>images/5.jpg</td>\n",
       "      <td>&lt;PIL.PngImagePlugin.PngImageFile image mode=RG...</td>\n",
       "      <td>[97, 102, 107, 122]</td>\n",
       "      <td>None</td>\n",
       "      <td>NaN</td>\n",
       "      <td>97</td>\n",
       "      <td>multi_choice</td>\n",
       "      <td>text</td>\n",
       "      <td>{'category': 'math-targeted-vqa', 'context': '...</td>\n",
       "      <td>Hint: Please answer the question and provide t...</td>\n",
       "    </tr>\n",
       "  </tbody>\n",
       "</table>\n",
       "</div>"
      ],
      "text/plain": [
       "  pid                                           question         image  \\\n",
       "0   1  When a spring does work on an object, we canno...  images/1.jpg   \n",
       "1   2     what is the total volume of the measuring cup?  images/2.jpg   \n",
       "2   3            △ABC的两内角平分线OB、OC相交于点O，若∠A＝110°，则∠BOC＝（）  images/3.jpg   \n",
       "3   4  Subtract all large rubber spheres. Subtract al...  images/4.jpg   \n",
       "4   5                                   Find $m\\angle H$  images/5.jpg   \n",
       "\n",
       "                                       decoded_image  \\\n",
       "0  <PIL.PngImagePlugin.PngImageFile image mode=RG...   \n",
       "1  <PIL.JpegImagePlugin.JpegImageFile image mode=...   \n",
       "2  <PIL.PngImagePlugin.PngImageFile image mode=P ...   \n",
       "3  <PIL.PngImagePlugin.PngImageFile image mode=RG...   \n",
       "4  <PIL.PngImagePlugin.PngImageFile image mode=RG...   \n",
       "\n",
       "                    choices  unit  precision answer question_type answer_type  \\\n",
       "0                      None  None        1.0    1.2     free_form       float   \n",
       "1                      None     g        NaN   1000     free_form     integer   \n",
       "2  [135°, 140°, 145°, 150°]  None        NaN   145°  multi_choice        text   \n",
       "3                      None  None        NaN      4     free_form     integer   \n",
       "4       [97, 102, 107, 122]  None        NaN     97  multi_choice        text   \n",
       "\n",
       "                                            metadata  \\\n",
       "0  {'category': 'math-targeted-vqa', 'context': '...   \n",
       "1  {'category': 'general-vqa', 'context': 'natura...   \n",
       "2  {'category': 'math-targeted-vqa', 'context': '...   \n",
       "3  {'category': 'math-targeted-vqa', 'context': '...   \n",
       "4  {'category': 'math-targeted-vqa', 'context': '...   \n",
       "\n",
       "                                               query  \n",
       "0  Hint: Please answer the question requiring a f...  \n",
       "1  Hint: Please answer the question requiring an ...  \n",
       "2  Hint: Please answer the question and provide t...  \n",
       "3  Hint: Please answer the question requiring an ...  \n",
       "4  Hint: Please answer the question and provide t...  "
      ]
     },
     "execution_count": 7,
     "metadata": {},
     "output_type": "execute_result"
    }
   ],
   "source": [
    "df = pd.DataFrame(ds).iloc[:5, :]\n",
    "df.head()"
   ]
  },
  {
   "cell_type": "code",
   "execution_count": null,
   "metadata": {},
   "outputs": [],
   "source": []
  }
 ],
 "metadata": {
  "kernelspec": {
   "display_name": "ai",
   "language": "python",
   "name": "python3"
  },
  "language_info": {
   "codemirror_mode": {
    "name": "ipython",
    "version": 3
   },
   "file_extension": ".py",
   "mimetype": "text/x-python",
   "name": "python",
   "nbconvert_exporter": "python",
   "pygments_lexer": "ipython3",
   "version": "3.12.9"
  }
 },
 "nbformat": 4,
 "nbformat_minor": 2
}
