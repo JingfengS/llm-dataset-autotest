{
 "cells": [
  {
   "cell_type": "markdown",
   "metadata": {},
   "source": [
    "# Evaluation for llm internvl\n",
    "\n",
    "### Datasets:\n",
    "- MME\n",
    "- [MMMU](https://huggingface.co/datasets/MMMU/MMMU)"
   ]
  },
  {
   "cell_type": "code",
   "execution_count": 5,
   "metadata": {},
   "outputs": [
    {
     "name": "stdout",
     "output_type": "stream",
     "text": [
      "env: OPENAI_API_KEY='jingfeng'\n"
     ]
    }
   ],
   "source": [
    "from models.BaseModelTest import ModelTestConfig, BaseModelTest\n",
    "from datasets import load_dataset\n",
    "import pandas as pd\n",
    "\n",
    "%env OPENAI_API_KEY='jingfeng'\n",
    "MMLU_URL = 'MMMU/MMMU'"
   ]
  },
  {
   "cell_type": "code",
   "execution_count": null,
   "metadata": {},
   "outputs": [
    {
     "data": {
      "application/vnd.jupyter.widget-view+json": {
       "model_id": "f65e98c085e546d0a4432355b4f31e66",
       "version_major": 2,
       "version_minor": 0
      },
      "text/plain": [
       "dev-00000-of-00001.parquet:   0%|          | 0.00/273k [00:00<?, ?B/s]"
      ]
     },
     "metadata": {},
     "output_type": "display_data"
    },
    {
     "data": {
      "application/vnd.jupyter.widget-view+json": {
       "model_id": "090d823034ad457285511fe4024f5b89",
       "version_major": 2,
       "version_minor": 0
      },
      "text/plain": [
       "validation-00000-of-00001.parquet:   0%|          | 0.00/1.54M [00:00<?, ?B/s]"
      ]
     },
     "metadata": {},
     "output_type": "display_data"
    },
    {
     "data": {
      "application/vnd.jupyter.widget-view+json": {
       "model_id": "b44881ff638840e7b4d85dff98f53a8c",
       "version_major": 2,
       "version_minor": 0
      },
      "text/plain": [
       "test-00000-of-00001.parquet:   0%|          | 0.00/17.8M [00:00<?, ?B/s]"
      ]
     },
     "metadata": {},
     "output_type": "display_data"
    },
    {
     "data": {
      "application/vnd.jupyter.widget-view+json": {
       "model_id": "dffc24ede31a4963a9178f647c95f065",
       "version_major": 2,
       "version_minor": 0
      },
      "text/plain": [
       "Generating dev split:   0%|          | 0/5 [00:00<?, ? examples/s]"
      ]
     },
     "metadata": {},
     "output_type": "display_data"
    },
    {
     "data": {
      "application/vnd.jupyter.widget-view+json": {
       "model_id": "0ad887a6ae76479eaa546bf8f1a10d8a",
       "version_major": 2,
       "version_minor": 0
      },
      "text/plain": [
       "Generating validation split:   0%|          | 0/30 [00:00<?, ? examples/s]"
      ]
     },
     "metadata": {},
     "output_type": "display_data"
    },
    {
     "data": {
      "application/vnd.jupyter.widget-view+json": {
       "model_id": "d84278aba1c949ba9884f86fb44f91b0",
       "version_major": 2,
       "version_minor": 0
      },
      "text/plain": [
       "Generating test split:   0%|          | 0/380 [00:00<?, ? examples/s]"
      ]
     },
     "metadata": {},
     "output_type": "display_data"
    },
    {
     "data": {
      "text/plain": [
       "DatasetDict({\n",
       "    dev: Dataset({\n",
       "        features: ['id', 'question', 'options', 'explanation', 'image_1', 'image_2', 'image_3', 'image_4', 'image_5', 'image_6', 'image_7', 'img_type', 'answer', 'topic_difficulty', 'question_type', 'subfield'],\n",
       "        num_rows: 5\n",
       "    })\n",
       "    validation: Dataset({\n",
       "        features: ['id', 'question', 'options', 'explanation', 'image_1', 'image_2', 'image_3', 'image_4', 'image_5', 'image_6', 'image_7', 'img_type', 'answer', 'topic_difficulty', 'question_type', 'subfield'],\n",
       "        num_rows: 30\n",
       "    })\n",
       "    test: Dataset({\n",
       "        features: ['id', 'question', 'options', 'explanation', 'image_1', 'image_2', 'image_3', 'image_4', 'image_5', 'image_6', 'image_7', 'img_type', 'answer', 'topic_difficulty', 'question_type', 'subfield'],\n",
       "        num_rows: 380\n",
       "    })\n",
       "})"
      ]
     },
     "execution_count": 8,
     "metadata": {},
     "output_type": "execute_result"
    }
   ],
   "source": [
    "ds = load_dataset(MMLU_URL, 'Accounting')\n",
    "ds "
   ]
  },
  {
   "cell_type": "code",
   "execution_count": 9,
   "metadata": {},
   "outputs": [
    {
     "data": {
      "application/vnd.microsoft.datawrangler.viewer.v0+json": {
       "columns": [
        {
         "name": "index",
         "rawType": "int64",
         "type": "integer"
        },
        {
         "name": "id",
         "rawType": "object",
         "type": "string"
        },
        {
         "name": "question",
         "rawType": "object",
         "type": "string"
        },
        {
         "name": "options",
         "rawType": "object",
         "type": "string"
        },
        {
         "name": "explanation",
         "rawType": "object",
         "type": "string"
        },
        {
         "name": "image_1",
         "rawType": "object",
         "type": "unknown"
        },
        {
         "name": "image_2",
         "rawType": "object",
         "type": "unknown"
        },
        {
         "name": "image_3",
         "rawType": "object",
         "type": "unknown"
        },
        {
         "name": "image_4",
         "rawType": "object",
         "type": "unknown"
        },
        {
         "name": "image_5",
         "rawType": "object",
         "type": "unknown"
        },
        {
         "name": "image_6",
         "rawType": "object",
         "type": "unknown"
        },
        {
         "name": "image_7",
         "rawType": "object",
         "type": "unknown"
        },
        {
         "name": "img_type",
         "rawType": "object",
         "type": "string"
        },
        {
         "name": "answer",
         "rawType": "object",
         "type": "string"
        },
        {
         "name": "topic_difficulty",
         "rawType": "object",
         "type": "string"
        },
        {
         "name": "question_type",
         "rawType": "object",
         "type": "string"
        },
        {
         "name": "subfield",
         "rawType": "object",
         "type": "string"
        }
       ],
       "conversionMethod": "pd.DataFrame",
       "ref": "ccbb92e5-a9ed-4c27-a913-0f3ed33c5be2",
       "rows": [
        [
         "0",
         "dev_Accounting_1",
         "Each of the following situations relates to a different company. <image 1> For company B, find the missing amounts.",
         "['$63,020', '$58,410', '$71,320', '$77,490']",
         "",
         "<PIL.PngImagePlugin.PngImageFile image mode=RGBA size=1234x289 at 0x304F45B20>",
         null,
         null,
         null,
         null,
         null,
         null,
         "['Tables']",
         "D",
         "Easy",
         "multiple-choice",
         "Financial Accounting"
        ],
        [
         "1",
         "dev_Accounting_2",
         "Here are facts for the Hudson Roofing Company for December. <image 1> Assuming no investments or withdrawals, what is the ending balance in the owners' capital account?",
         "['$171,900', '$170,000', '$172,500', '$181,900']",
         "",
         "<PIL.PngImagePlugin.PngImageFile image mode=RGBA size=694x139 at 0x304EF1580>",
         null,
         null,
         null,
         null,
         null,
         null,
         "['Tables']",
         "A",
         "Easy",
         "multiple-choice",
         "Financial Accounting"
        ],
        [
         "2",
         "dev_Accounting_3",
         "For 2015, calculate the cash flow from assets(1) ________, cash flow to creditors(2) ________, and cash flow to stockholders(3) ________.<image 1>",
         "['1): -$493.02 (2):-$2,384 (3):$1,890.98', '1): $1843.98 (2): -$2,384 (3):$493.02', '1): -$493.02 (2):  -$2,384 (3):-$1,890.98']",
         "OCF = EBIT + Depreciation - Taxes= $4,427 + 1,351 - 1,259.02= $4,518.98\nChange in NWC = ($25,522 - 5,917) - ($23,062 - 6,132)= $2,675\nNet capital spending = $42,332 - 41,346 + 1,351= $2,337\nCash flow from assets = $4,518.98 - 2,675 - 2,337= -$493.02\nCash flow to creditors = Interest - Net new LTD= $724 - ($19,260 - 16,152)= -$2,384\nCash flow to stockholders = Dividends - Net new equity= $1,261- (-$629.98)= $1,890.98\nCash flow from assets = Cash flow from creditors + Cash flow to stockholders = -$2,384+ 1,890.98 = -$493.02",
         "<PIL.PngImagePlugin.PngImageFile image mode=RGBA size=451x415 at 0x304EF1460>",
         null,
         null,
         null,
         null,
         null,
         null,
         "['Tables']",
         "C",
         "Medium",
         "multiple-choice",
         "Financial Accounting"
        ],
        [
         "3",
         "dev_Accounting_4",
         "Paper Submarine Manufacturing is investigating a lockbox system to reduce its collection time. It has determined the following:<image 1> The total collection time will be reduced by three days if the lockbox system is adopted.What is the net cash flow per check from adopting? ",
         "['$.02', '$7.79', '$8.65']",
         "",
         "<PIL.PngImagePlugin.PngImageFile image mode=RGBA size=499x130 at 0x304F1EC90>",
         null,
         null,
         null,
         null,
         null,
         null,
         "['Tables']",
         "A",
         "Easy",
         "multiple-choice",
         "Financial Accounting"
        ],
        [
         "4",
         "dev_Accounting_5",
         "Solve for the unknown number of years in each of the following:<image 1>",
         "['10.52 years; 14.73 years; 20.02 years; 24.73 years', '10.64 years; 14.81 years; 20.35 years; 25.01 years', '10.96 years; 15.22 years; 20.83 years; 25.96 years']",
         "",
         "<PIL.PngImagePlugin.PngImageFile image mode=RGBA size=505x132 at 0x304F1F8C0>",
         null,
         null,
         null,
         null,
         null,
         null,
         "['Tables']",
         "B",
         "Hard",
         "multiple-choice",
         "Financial Accounting"
        ]
       ],
       "shape": {
        "columns": 16,
        "rows": 5
       }
      },
      "text/html": [
       "<div>\n",
       "<style scoped>\n",
       "    .dataframe tbody tr th:only-of-type {\n",
       "        vertical-align: middle;\n",
       "    }\n",
       "\n",
       "    .dataframe tbody tr th {\n",
       "        vertical-align: top;\n",
       "    }\n",
       "\n",
       "    .dataframe thead th {\n",
       "        text-align: right;\n",
       "    }\n",
       "</style>\n",
       "<table border=\"1\" class=\"dataframe\">\n",
       "  <thead>\n",
       "    <tr style=\"text-align: right;\">\n",
       "      <th></th>\n",
       "      <th>id</th>\n",
       "      <th>question</th>\n",
       "      <th>options</th>\n",
       "      <th>explanation</th>\n",
       "      <th>image_1</th>\n",
       "      <th>image_2</th>\n",
       "      <th>image_3</th>\n",
       "      <th>image_4</th>\n",
       "      <th>image_5</th>\n",
       "      <th>image_6</th>\n",
       "      <th>image_7</th>\n",
       "      <th>img_type</th>\n",
       "      <th>answer</th>\n",
       "      <th>topic_difficulty</th>\n",
       "      <th>question_type</th>\n",
       "      <th>subfield</th>\n",
       "    </tr>\n",
       "  </thead>\n",
       "  <tbody>\n",
       "    <tr>\n",
       "      <th>0</th>\n",
       "      <td>dev_Accounting_1</td>\n",
       "      <td>Each of the following situations relates to a ...</td>\n",
       "      <td>['$63,020', '$58,410', '$71,320', '$77,490']</td>\n",
       "      <td></td>\n",
       "      <td>&lt;PIL.PngImagePlugin.PngImageFile image mode=RG...</td>\n",
       "      <td>None</td>\n",
       "      <td>None</td>\n",
       "      <td>None</td>\n",
       "      <td>None</td>\n",
       "      <td>None</td>\n",
       "      <td>None</td>\n",
       "      <td>['Tables']</td>\n",
       "      <td>D</td>\n",
       "      <td>Easy</td>\n",
       "      <td>multiple-choice</td>\n",
       "      <td>Financial Accounting</td>\n",
       "    </tr>\n",
       "    <tr>\n",
       "      <th>1</th>\n",
       "      <td>dev_Accounting_2</td>\n",
       "      <td>Here are facts for the Hudson Roofing Company ...</td>\n",
       "      <td>['$171,900', '$170,000', '$172,500', '$181,900']</td>\n",
       "      <td></td>\n",
       "      <td>&lt;PIL.PngImagePlugin.PngImageFile image mode=RG...</td>\n",
       "      <td>None</td>\n",
       "      <td>None</td>\n",
       "      <td>None</td>\n",
       "      <td>None</td>\n",
       "      <td>None</td>\n",
       "      <td>None</td>\n",
       "      <td>['Tables']</td>\n",
       "      <td>A</td>\n",
       "      <td>Easy</td>\n",
       "      <td>multiple-choice</td>\n",
       "      <td>Financial Accounting</td>\n",
       "    </tr>\n",
       "    <tr>\n",
       "      <th>2</th>\n",
       "      <td>dev_Accounting_3</td>\n",
       "      <td>For 2015, calculate the cash flow from assets(...</td>\n",
       "      <td>['1): -$493.02 (2):-$2,384 (3):$1,890.98', '1)...</td>\n",
       "      <td>OCF = EBIT + Depreciation - Taxes= $4,427 + 1,...</td>\n",
       "      <td>&lt;PIL.PngImagePlugin.PngImageFile image mode=RG...</td>\n",
       "      <td>None</td>\n",
       "      <td>None</td>\n",
       "      <td>None</td>\n",
       "      <td>None</td>\n",
       "      <td>None</td>\n",
       "      <td>None</td>\n",
       "      <td>['Tables']</td>\n",
       "      <td>C</td>\n",
       "      <td>Medium</td>\n",
       "      <td>multiple-choice</td>\n",
       "      <td>Financial Accounting</td>\n",
       "    </tr>\n",
       "    <tr>\n",
       "      <th>3</th>\n",
       "      <td>dev_Accounting_4</td>\n",
       "      <td>Paper Submarine Manufacturing is investigating...</td>\n",
       "      <td>['$.02', '$7.79', '$8.65']</td>\n",
       "      <td></td>\n",
       "      <td>&lt;PIL.PngImagePlugin.PngImageFile image mode=RG...</td>\n",
       "      <td>None</td>\n",
       "      <td>None</td>\n",
       "      <td>None</td>\n",
       "      <td>None</td>\n",
       "      <td>None</td>\n",
       "      <td>None</td>\n",
       "      <td>['Tables']</td>\n",
       "      <td>A</td>\n",
       "      <td>Easy</td>\n",
       "      <td>multiple-choice</td>\n",
       "      <td>Financial Accounting</td>\n",
       "    </tr>\n",
       "    <tr>\n",
       "      <th>4</th>\n",
       "      <td>dev_Accounting_5</td>\n",
       "      <td>Solve for the unknown number of years in each ...</td>\n",
       "      <td>['10.52 years; 14.73 years; 20.02 years; 24.73...</td>\n",
       "      <td></td>\n",
       "      <td>&lt;PIL.PngImagePlugin.PngImageFile image mode=RG...</td>\n",
       "      <td>None</td>\n",
       "      <td>None</td>\n",
       "      <td>None</td>\n",
       "      <td>None</td>\n",
       "      <td>None</td>\n",
       "      <td>None</td>\n",
       "      <td>['Tables']</td>\n",
       "      <td>B</td>\n",
       "      <td>Hard</td>\n",
       "      <td>multiple-choice</td>\n",
       "      <td>Financial Accounting</td>\n",
       "    </tr>\n",
       "  </tbody>\n",
       "</table>\n",
       "</div>"
      ],
      "text/plain": [
       "                 id                                           question  \\\n",
       "0  dev_Accounting_1  Each of the following situations relates to a ...   \n",
       "1  dev_Accounting_2  Here are facts for the Hudson Roofing Company ...   \n",
       "2  dev_Accounting_3  For 2015, calculate the cash flow from assets(...   \n",
       "3  dev_Accounting_4  Paper Submarine Manufacturing is investigating...   \n",
       "4  dev_Accounting_5  Solve for the unknown number of years in each ...   \n",
       "\n",
       "                                             options  \\\n",
       "0       ['$63,020', '$58,410', '$71,320', '$77,490']   \n",
       "1   ['$171,900', '$170,000', '$172,500', '$181,900']   \n",
       "2  ['1): -$493.02 (2):-$2,384 (3):$1,890.98', '1)...   \n",
       "3                         ['$.02', '$7.79', '$8.65']   \n",
       "4  ['10.52 years; 14.73 years; 20.02 years; 24.73...   \n",
       "\n",
       "                                         explanation  \\\n",
       "0                                                      \n",
       "1                                                      \n",
       "2  OCF = EBIT + Depreciation - Taxes= $4,427 + 1,...   \n",
       "3                                                      \n",
       "4                                                      \n",
       "\n",
       "                                             image_1 image_2 image_3 image_4  \\\n",
       "0  <PIL.PngImagePlugin.PngImageFile image mode=RG...    None    None    None   \n",
       "1  <PIL.PngImagePlugin.PngImageFile image mode=RG...    None    None    None   \n",
       "2  <PIL.PngImagePlugin.PngImageFile image mode=RG...    None    None    None   \n",
       "3  <PIL.PngImagePlugin.PngImageFile image mode=RG...    None    None    None   \n",
       "4  <PIL.PngImagePlugin.PngImageFile image mode=RG...    None    None    None   \n",
       "\n",
       "  image_5 image_6 image_7    img_type answer topic_difficulty  \\\n",
       "0    None    None    None  ['Tables']      D             Easy   \n",
       "1    None    None    None  ['Tables']      A             Easy   \n",
       "2    None    None    None  ['Tables']      C           Medium   \n",
       "3    None    None    None  ['Tables']      A             Easy   \n",
       "4    None    None    None  ['Tables']      B             Hard   \n",
       "\n",
       "     question_type              subfield  \n",
       "0  multiple-choice  Financial Accounting  \n",
       "1  multiple-choice  Financial Accounting  \n",
       "2  multiple-choice  Financial Accounting  \n",
       "3  multiple-choice  Financial Accounting  \n",
       "4  multiple-choice  Financial Accounting  "
      ]
     },
     "execution_count": 9,
     "metadata": {},
     "output_type": "execute_result"
    }
   ],
   "source": [
    "df = pd.DataFrame(ds['dev'])\n",
    "df.head()"
   ]
  },
  {
   "cell_type": "code",
   "execution_count": 10,
   "metadata": {},
   "outputs": [
    {
     "data": {
      "text/plain": [
       "PIL.PngImagePlugin.PngImageFile"
      ]
     },
     "execution_count": 10,
     "metadata": {},
     "output_type": "execute_result"
    }
   ],
   "source": [
    "type(df.iloc[0, 4])"
   ]
  },
  {
   "cell_type": "code",
   "execution_count": null,
   "metadata": {},
   "outputs": [],
   "source": []
  }
 ],
 "metadata": {
  "kernelspec": {
   "display_name": "ai",
   "language": "python",
   "name": "python3"
  },
  "language_info": {
   "codemirror_mode": {
    "name": "ipython",
    "version": 3
   },
   "file_extension": ".py",
   "mimetype": "text/x-python",
   "name": "python",
   "nbconvert_exporter": "python",
   "pygments_lexer": "ipython3",
   "version": "3.12.9"
  }
 },
 "nbformat": 4,
 "nbformat_minor": 2
}
