{
 "cells": [
  {
   "cell_type": "code",
   "execution_count": null,
   "metadata": {},
   "outputs": [],
   "source": [
    "from models.BaseModelTest import ModelTestConfig, BaseModelTest\n",
    "from models.MME_TestModel import MME_TestModel\n",
    "from datasets import load_dataset, get_dataset_config_names\n",
    "import pandas as pd\n",
    "from pathlib import Path\n",
    "from tqdm import tqdm\n",
    "import os\n",
    "\n",
    "%env OPENAI_API_KEY='jingfeng'\n",
    "%env DEEPEVAL_RESULTS_FOLDER=mme_results"
   ]
  },
  {
   "cell_type": "code",
   "execution_count": null,
   "metadata": {},
   "outputs": [],
   "source": [
    "\n",
    "from models.MMMU_TestModel import MMMU_Test_Model\n",
    "mmmu_goldens = Path('MMMU_Goldens_validation')\n",
    "MMMU_URL = 'MMMU/MMMU'\n",
    "EVAL_MMMU = True\n",
    "if EVAL_MMMU: \n",
    "    mmmu_configs = get_dataset_config_names(MMMU_URL)\n",
    "    mmmu_results = {}\n",
    "    for config in tqdm(mmmu_configs):\n",
    "        if os.path.exists(mmmu_goldens / (config + '.pkl')):\n",
    "            print(f'{config + '.pkl'} Already exists, skip')\n",
    "            continue\n",
    "        mmmu_ds = load_dataset(MMMU_URL, config)['validation']\n",
    "        mmmu_df = pd.DataFrame(mmmu_ds).iloc[:100, :]\n",
    "        mmmu_model_config = ModelTestConfig(model_name='openai/internvl2_5')\n",
    "        mmmu_model = MMMU_Test_Model(mmmu_model_config)\n",
    "        mmmu_model.make_data(mmmu_df)\n",
    "        mmmu_model.make_goldens()\n",
    "        mmmu_model.save_goldens(mmmu_goldens / (config + '.pkl'))\n",
    "        \n",
    "        \n",
    "    \n"
   ]
  },
  {
   "cell_type": "code",
   "execution_count": null,
   "metadata": {},
   "outputs": [],
   "source": [
    "\n",
    "EVAL_MME = False\n",
    "if EVAL_MME:\n",
    "    ds = load_dataset(\"darkyarding/MME\")['test']\n",
    "    df = pd.DataFrame(ds)\n",
    "    mme_config = ModelTestConfig(model_name='openai/internvl2_5')\n",
    "    mme_model = MME_TestModel(mme_config)\n",
    "    mme_model.make_data(df)\n",
    "    mme_model.make_goldens()\n",
    "    mme_model.save_goldens(\"./mme/goldens.pkl\")\n",
    "    "
   ]
  },
  {
   "cell_type": "code",
   "execution_count": null,
   "metadata": {},
   "outputs": [],
   "source": []
  }
 ],
 "metadata": {
  "kernelspec": {
   "display_name": "ai",
   "language": "python",
   "name": "python3"
  },
  "language_info": {
   "codemirror_mode": {
    "name": "ipython",
    "version": 3
   },
   "file_extension": ".py",
   "mimetype": "text/x-python",
   "name": "python",
   "nbconvert_exporter": "python",
   "pygments_lexer": "ipython3",
   "version": "3.12.9"
  }
 },
 "nbformat": 4,
 "nbformat_minor": 2
}
